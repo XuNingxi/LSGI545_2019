{
 "cells": [
  {
   "cell_type": "markdown",
   "metadata": {},
   "source": [
    "# Using OSMnx to Collect and Manipulate Transport Networks"
   ]
  },
  {
   "cell_type": "markdown",
   "metadata": {},
   "source": [
    "## Learning Objectives\n",
    "By the end of this practical lab you will be able to:\n",
    "\n",
    "* Create street networks using the OSMnx package\n",
    "* Extract street networks for different modes\n",
    "* Run some basic network statistics\n",
    "* Export your street networks for use in ArcGIS\n",
    "* Create figure-ground images"
   ]
  },
  {
   "cell_type": "markdown",
   "metadata": {},
   "source": [
    "## Important - Before You Begin\n",
    "**OSMnx requires the *geopandas* package**  \n",
    "Make sure you have downloaded and installed the packages below separately! See the notes in the **P2_Data_Manipulation** notebook. If you did not install these, or want to check if they are installed, you can **run this chunk of code:**"
   ]
  },
  {
   "cell_type": "code",
   "execution_count": null,
   "metadata": {},
   "outputs": [],
   "source": [
    "# Replace YOUR_USERNAME with with your username on the PC\n",
    "# If you synced the GitHub repository to a different location, you will have to change the code to point to it\n",
    "!pip install C:\\Users\\YOUR_USERNAME\\Documents\\GitHub\\LSGI545_2019\\00_setup\\GDAL-2.3.3-cp37-cp37m-win_amd64.whl\n",
    "!pip install C:\\Users\\YOUR_USERNAME\\Documents\\GitHub\\LSGI545_2019\\00_setup\\Fiona-1.8.4-cp37-cp37m-win_amd64.whl\n",
    "!pip install C:\\Users\\YOUR_USERNAME\\Documents\\GitHub\\LSGI545_2019\\00_setup\\pyproj-1.9.6-cp37-cp37m-win_amd64.whl\n",
    "!pip install C:\\Users\\YOUR_USERNAME\\Documents\\GitHub\\LSGI545_2019\\00_setup\\Rtree-0.8.3-cp37-cp37m-win_amd64.whl\n",
    "!pip install C:\\Users\\YOUR_USERNAME\\Documents\\GitHub\\LSGI545_2019\\00_setup\\Shapely-1.6.4.post1-cp37-cp37m-win_amd64.whl\n",
    "!pip install descartes\n",
    "!pip install geopandas"
   ]
  },
  {
   "cell_type": "markdown",
   "metadata": {},
   "source": [
    "## Downloading and Constructing Networks\n",
    "OSMnx is a python package that lets you download street networks from OpenStreetMap and project, visualize and save them as shapefiles for use in ArcGIS and other applications. OSMnx has several methods for downloading and constructing networks from OpenStreetMap data. You can find all the methods in the overview tutorial at [OSMnx Tutorials](https://github.com/gboeing/osmnx-examples/tree/master/notebooks) in the [OSMnx Repository](https://github.com/gboeing/osmnx-examples). Let's look at two of them:"
   ]
  },
  {
   "cell_type": "code",
   "execution_count": null,
   "metadata": {},
   "outputs": [],
   "source": [
    "# Download and install the OSMnx package\n",
    "# You only need to run the following lines the first time you run this notebook\n",
    "!pip install osmnx\n",
    "!pip install networkx==2.2"
   ]
  },
  {
   "cell_type": "code",
   "execution_count": null,
   "metadata": {},
   "outputs": [],
   "source": [
    "import osmnx as ox\n",
    "import geopandas as gpd\n",
    "import networkx as nx\n",
    "import matplotlib.cm as cm\n",
    "import matplotlib.colors as colors\n",
    "import pandas as pd\n",
    "import numpy as np\n",
    "import requests\n",
    "%matplotlib inline\n",
    "ox.config(log_file=True, log_console=True, use_cache=True)"
   ]
  },
  {
   "cell_type": "markdown",
   "metadata": {},
   "source": [
    "### Network Types\n",
    "The default network type considers all types of links or edges from OpenStreetMap. However, OSMnx supports downloading several types of networks based on the OpenStreetMap data by specifying a network_type string parameter:\n",
    "* Driving (*network_type = 'drive'*)\n",
    "* Driving and Service Roads (*network_type = 'drive_service'*)\n",
    "* Walking (*network_type = 'walk'*)\n",
    "* Cycling (*network_type = 'bike'*)"
   ]
  },
  {
   "cell_type": "markdown",
   "metadata": {},
   "source": [
    "### Method 1: Network from a Point\n",
    "Constructs the network *G1* from all the OSM nodes and edges around some point:"
   ]
  },
  {
   "cell_type": "code",
   "execution_count": null,
   "metadata": {},
   "outputs": [],
   "source": [
    "# Define a point at some location based on its Latitude and Longitude\n",
    "location_point = (22.306436, 114.179426)\n",
    "\n",
    "# create network from point, inside bounding box of N, S, E, W each 1000m from point\n",
    "G1 = ox.graph_from_point(location_point, distance=1000, distance_type='bbox', network_type='drive')\n",
    "\n",
    "# Project the network graph into UTM coordinates so they can be used in metres instead of lat-long\n",
    "G1_projected = ox.project_graph(G1)\n",
    "\n",
    "# Plot the projected network\n",
    "fig, ax = ox.plot_graph(G1_projected, node_size=25, node_color='#66cc66')"
   ]
  },
  {
   "cell_type": "markdown",
   "metadata": {},
   "source": [
    "### Method 2: Network from a Place name\n",
    "This geocodes the place name, gets the place's boundary shape polygon and bounding box, downloads the network within the bounding box, then prunes all nodes that lie outside the place's boundary polygon and creates the network. Let's get a walking network that we will call *G2*:"
   ]
  },
  {
   "cell_type": "code",
   "execution_count": null,
   "metadata": {},
   "outputs": [],
   "source": [
    "# create the street network within the boundary of Hong Kong\n",
    "G2 = ox.graph_from_place('Hong Kong, Hong Kong', network_type='drive_service')\n",
    "\n",
    "# Project the network into UTM coordinates (this can take a while with large networks!)\n",
    "G2_projected = ox.project_graph(G2)\n",
    "\n",
    "# Plot the projected network\n",
    "fig, ax = ox.plot_graph(G2_projected)"
   ]
  },
  {
   "cell_type": "markdown",
   "metadata": {},
   "source": [
    "### Method 3: Network from Multiple Place Names\n",
    "You might find that the place name you entered above does not cover the whole area you look to study. This can happen when looking for networks that break due to city boundaries. In this case, the OSMnx tool can handle multiple place names to create network *G3*:"
   ]
  },
  {
   "cell_type": "code",
   "execution_count": null,
   "metadata": {},
   "outputs": [],
   "source": [
    "# You can pass multiple places as a mixed list of strings and/or structured queries\n",
    "places = ['Manhattan, New York City', 'The Bronx, New York City']\n",
    "G3 = ox.graph_from_place(places, clean_periphery=False, network_type='drive_service')\n",
    "G3_projected = ox.project_graph(G3)\n",
    "fig, ax = ox.plot_graph(G3_projected, fig_height=10, node_size=1)"
   ]
  },
  {
   "cell_type": "markdown",
   "metadata": {},
   "source": [
    "### Method 4: Network from Place Polygon\n",
    "This last method extracts all the streets within a polygon:"
   ]
  },
  {
   "cell_type": "code",
   "execution_count": null,
   "metadata": {},
   "outputs": [],
   "source": [
    "# get the boundary polygon for Hong Kong and plot\n",
    "# gdf is a geopandas GeoDataFrame\n",
    "city = ox.gdf_from_place('Hong Kong, Hong Kong')\n",
    "fig, ax = ox.plot_shape(city, figsize=(3,3))"
   ]
  },
  {
   "cell_type": "code",
   "execution_count": null,
   "metadata": {},
   "outputs": [],
   "source": [
    "# now use the city polygon to extract streets from OSM\n",
    "# the projection will take some time - can leave it running and do something else\n",
    "city_polygon = city['geometry'].iloc[0]\n",
    "G4 = ox.graph_from_polygon(city_polygon, network_type='walk')\n",
    "G4_projected = ox.project_graph(G4)\n",
    "fig, ax = ox.plot_graph(G4_projected)"
   ]
  },
  {
   "cell_type": "markdown",
   "metadata": {},
   "source": [
    "One downside of the OSMnx tool is that it does not handle disconnected networks. In the example for network G4 above, if you specified a network_type='walk' for Hong Kong, you would only get Kowloon and the New Territories - Hong Kong Island and Lantau Island would be missing, because these networks are not connected to Kowloon as the tunnes and bridges interrupt the walking network. The solution is to use *Method 2* to download walking networks for *'Hong Kong, Hong Kong'*, *'Hong Kong Island, Hong Kong'*, and *'Lantau Island, Hong Kong'* separately and save them to shapefiles per the code below. "
   ]
  },
  {
   "cell_type": "markdown",
   "metadata": {},
   "source": [
    "## Saving your Networks to Shapefiles\n",
    "OSMnx supports exporting your networks to shapefiles. Let's export network *G4* so we can use it in ArcGIS:"
   ]
  },
  {
   "cell_type": "code",
   "execution_count": null,
   "metadata": {},
   "outputs": [],
   "source": [
    "# save the Hong Kong boundary polygon as a shapefile\n",
    "ox.save_gdf_shapefile(city, folder='/data', filename='Hong_Kong')\n",
    "\n",
    "# Save the Hong Kong street network as ESRI shapefile to work with in GIS\n",
    "ox.save_graph_shapefile(G4, folder='/data', filename='G4_network_shape')"
   ]
  },
  {
   "cell_type": "markdown",
   "metadata": {},
   "source": [
    "## Other Fun Things\n",
    "### Figure-Ground Diagram\n",
    "Use OSMnx to download square-mile city street networks and visualize them as figure-ground diagrams. Discussed in this [blog post](https://geoffboeing.com/2017/01/square-mile-street-network-visualization/)"
   ]
  },
  {
   "cell_type": "code",
   "execution_count": null,
   "metadata": {},
   "outputs": [],
   "source": [
    "# configure the inline image display\n",
    "from IPython.display import Image\n",
    "img_folder = 'images'\n",
    "extension = 'png'\n",
    "size = 240\n",
    "dpi = 40"
   ]
  },
  {
   "cell_type": "markdown",
   "metadata": {},
   "source": [
    "Now let's try a few places:"
   ]
  },
  {
   "cell_type": "code",
   "execution_count": null,
   "metadata": {},
   "outputs": [],
   "source": [
    "# Pass in the Latitude and Longitude of a location. Let's try TST\n",
    "place = 'tst'\n",
    "point = (22.3005, 114.172283)\n",
    "fig, ax = ox.plot_figure_ground(point=point, filename=place, dpi=dpi)\n",
    "Image('{}/{}.{}'.format(img_folder, place, extension), height=size, width=size)"
   ]
  },
  {
   "cell_type": "code",
   "execution_count": null,
   "metadata": {},
   "outputs": [],
   "source": [
    "# Now Central\n",
    "place = 'central'\n",
    "point = (22.283905, 114.154418)\n",
    "fig, ax = ox.plot_figure_ground(point=point, filename=place, dpi=dpi)\n",
    "Image('{}/{}.{}'.format(img_folder, place, extension), height=size, width=size)"
   ]
  },
  {
   "cell_type": "code",
   "execution_count": null,
   "metadata": {},
   "outputs": [],
   "source": [
    "# How about Times Square in NYC\n",
    "place = 'nyc'\n",
    "point = (40.759204, -73.984624)\n",
    "fig, ax = ox.plot_figure_ground(point=point, filename=place, dpi=dpi)\n",
    "Image('{}/{}.{}'.format(img_folder, place, extension), height=size, width=size)"
   ]
  },
  {
   "cell_type": "markdown",
   "metadata": {},
   "source": [
    "### Running Network Statistics"
   ]
  },
  {
   "cell_type": "code",
   "execution_count": null,
   "metadata": {},
   "outputs": [],
   "source": [
    "# define which network you would like to analyze\n",
    "network = G1_projected"
   ]
  },
  {
   "cell_type": "code",
   "execution_count": null,
   "metadata": {},
   "outputs": [],
   "source": [
    "# show some basic stats about the network\n",
    "stats = ox.basic_stats(network)\n",
    "stats\n",
    "# see more info at https://osmnx.readthedocs.io/en/stable/osmnx.html#module-osmnx.stats"
   ]
  },
  {
   "cell_type": "markdown",
   "metadata": {},
   "source": [
    "### Visualize Nodes by Betweeness Centrality"
   ]
  },
  {
   "cell_type": "code",
   "execution_count": null,
   "metadata": {},
   "outputs": [],
   "source": [
    "# run the extended statistics routine\n",
    "extended_stats = ox.extended_stats(network, ecc=True, bc=True, cc=True)\n",
    "\n",
    "# get a color for each node\n",
    "def get_color_list(n, color_map='plasma', start=0, end=1):\n",
    "    return [cm.get_cmap(color_map)(x) for x in np.linspace(start, end, n)]\n",
    "\n",
    "def get_node_colors_by_stat(network, data, start=0, end=1):\n",
    "    df = pd.DataFrame(data=pd.Series(data).sort_values(), columns=['value'])\n",
    "    df['colors'] = get_color_list(len(df), start=start, end=end)\n",
    "    df = df.reindex(network.nodes())\n",
    "    return df['colors'].tolist()\n",
    "\n",
    "nc = get_node_colors_by_stat(network, data=extended_stats['betweenness_centrality'])\n",
    "fig, ax = ox.plot_graph(network, node_color=nc, node_edgecolor='gray', node_size=20, node_zorder=2)"
   ]
  },
  {
   "cell_type": "markdown",
   "metadata": {},
   "source": [
    "### Visualize Streets by Closeness Centrality"
   ]
  },
  {
   "cell_type": "code",
   "execution_count": null,
   "metadata": {},
   "outputs": [],
   "source": [
    "# edge closeness centrality: convert graph to line graph so edges become nodes and vice versa\n",
    "edge_centrality = nx.closeness_centrality(nx.line_graph(network))\n",
    "\n",
    "# list of edge values for the orginal graph\n",
    "ev = [edge_centrality[edge + (0,)] for edge in network.edges()]\n",
    "\n",
    "# color scale converted to list of colors for graph edges\n",
    "norm = colors.Normalize(vmin=min(ev)*0.8, vmax=max(ev))\n",
    "cmap = cm.ScalarMappable(norm=norm, cmap=cm.inferno)\n",
    "ec = [cmap.to_rgba(cl) for cl in ev]\n",
    "\n",
    "# color the edges in the original graph with closeness centralities in the line graph\n",
    "fig, ax = ox.plot_graph(network, bgcolor='k', axis_off=True, node_size=0,\n",
    "                        edge_color=ec, edge_linewidth=1.5, edge_alpha=1)"
   ]
  },
  {
   "cell_type": "markdown",
   "metadata": {},
   "source": [
    "# References\n",
    "Boeing, G. 2017. “OSMnx: New Methods for Acquiring, Constructing, Analyzing, and Visualizing Complex Street Networks.” *Computers, Environment and Urban Systems* 65, 126-139."
   ]
  }
 ],
 "metadata": {
  "kernelspec": {
   "display_name": "Python 3",
   "language": "python",
   "name": "python3"
  },
  "language_info": {
   "codemirror_mode": {
    "name": "ipython",
    "version": 3
   },
   "file_extension": ".py",
   "mimetype": "text/x-python",
   "name": "python",
   "nbconvert_exporter": "python",
   "pygments_lexer": "ipython3",
   "version": "3.7.1"
  }
 },
 "nbformat": 4,
 "nbformat_minor": 2
}
